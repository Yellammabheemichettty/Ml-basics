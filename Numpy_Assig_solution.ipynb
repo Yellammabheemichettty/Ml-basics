{
  "nbformat": 4,
  "nbformat_minor": 0,
  "metadata": {
    "colab": {
      "name": "Numpy_Assig_solution",
      "provenance": [],
      "collapsed_sections": []
    },
    "kernelspec": {
      "name": "python3",
      "display_name": "Python 3"
    }
  },
  "cells": [
    {
      "cell_type": "markdown",
      "metadata": {
        "id": "i9bGbq62gVwK"
      },
      "source": [
        "# Numpy , Pandas and Matplotlib \n",
        "\n",
        "**Numpy**"
      ]
    },
    {
      "cell_type": "markdown",
      "metadata": {
        "id": "-bJaivEXgk5P"
      },
      "source": [
        "**bold text**\n",
        "\n",
        "1. Create a 1D array of numbers from 0 to 9. \n",
        "\n",
        "\n"
      ]
    },
    {
      "cell_type": "code",
      "metadata": {
        "id": "7jeOluDxgUWt",
        "colab": {
          "base_uri": "https://localhost:8080/"
        },
        "outputId": "2da3d71e-06af-4ca8-a3eb-b4029b80484f"
      },
      "source": [
        "import numpy as np\n",
        "arr = np.arange(0,10)\n",
        "arr\n"
      ],
      "execution_count": 5,
      "outputs": [
        {
          "output_type": "execute_result",
          "data": {
            "text/plain": [
              "array([0, 1, 2, 3, 4, 5, 6, 7, 8, 9])"
            ]
          },
          "metadata": {
            "tags": []
          },
          "execution_count": 5
        }
      ]
    },
    {
      "cell_type": "markdown",
      "metadata": {
        "id": "9SuJCIgPhIdZ"
      },
      "source": [
        "**2.Create a 3×3 numpy array of all True’s**"
      ]
    },
    {
      "cell_type": "code",
      "metadata": {
        "id": "AOBUGlePhaF-",
        "colab": {
          "base_uri": "https://localhost:8080/"
        },
        "outputId": "7a71831d-f016-421c-d10b-af18a6a93f08"
      },
      "source": [
        "np.ones((3,3),dtype=bool)"
      ],
      "execution_count": 9,
      "outputs": [
        {
          "output_type": "execute_result",
          "data": {
            "text/plain": [
              "array([[ True,  True,  True],\n",
              "       [ True,  True,  True],\n",
              "       [ True,  True,  True]])"
            ]
          },
          "metadata": {
            "tags": []
          },
          "execution_count": 9
        }
      ]
    },
    {
      "cell_type": "markdown",
      "metadata": {
        "id": "qcaAUXEAhsZX"
      },
      "source": [
        "**3.Extract all odd numbers from arr**\n",
        " \n",
        " **Input:**\n",
        " arr = np.array([0, 1, 2, 3, 4, 5, 6, 7, 8, 9])"
      ]
    },
    {
      "cell_type": "code",
      "metadata": {
        "id": "X0oTm91diFb2",
        "colab": {
          "base_uri": "https://localhost:8080/"
        },
        "outputId": "d6b477b5-8154-4c84-adb0-1cb6f1e45a82"
      },
      "source": [
        "np.where(arr%2 != 0)"
      ],
      "execution_count": 12,
      "outputs": [
        {
          "output_type": "execute_result",
          "data": {
            "text/plain": [
              "(array([1, 3, 5, 7, 9]),)"
            ]
          },
          "metadata": {
            "tags": []
          },
          "execution_count": 12
        }
      ]
    },
    {
      "cell_type": "markdown",
      "metadata": {
        "id": "DBfaO1SJiHhv"
      },
      "source": [
        "**4.Replace all odd numbers in arr with -1 without changing arr**\n",
        "\n",
        "\n",
        "**Input:**\n",
        "arr = np.array([0, 1, 2, 3, 4, 5, 6, 7, 8, 9])"
      ]
    },
    {
      "cell_type": "code",
      "metadata": {
        "id": "qf8QJZ7qig_L",
        "colab": {
          "base_uri": "https://localhost:8080/"
        },
        "outputId": "61934d1d-0a66-41c2-95f1-af5be5893c96"
      },
      "source": [
        "arr = np.arange(10)\n",
        "out = np.where(arr % 2 == 1,-1,arr)\n",
        "print(arr)\n",
        "out"
      ],
      "execution_count": 14,
      "outputs": [
        {
          "output_type": "stream",
          "text": [
            "[0 1 2 3 4 5 6 7 8 9]\n"
          ],
          "name": "stdout"
        },
        {
          "output_type": "execute_result",
          "data": {
            "text/plain": [
              "array([ 0, -1,  2, -1,  4, -1,  6, -1,  8, -1])"
            ]
          },
          "metadata": {
            "tags": []
          },
          "execution_count": 14
        }
      ]
    },
    {
      "cell_type": "markdown",
      "metadata": {
        "id": "KE-yoQm8i7_I"
      },
      "source": [
        "**5.Convert the function maxx that works on two scalars, to work on two arrays.**"
      ]
    },
    {
      "cell_type": "code",
      "metadata": {
        "id": "jlQrWGwMjVdD",
        "colab": {
          "base_uri": "https://localhost:8080/"
        },
        "outputId": "2170719e-da8e-45f5-8c6b-e3cdb8552164"
      },
      "source": [
        "def maxx(x, y):\n",
        "    \"\"\"Get the maximum of two items\"\"\"\n",
        "    if x >= y:\n",
        "        return x\n",
        "    else:\n",
        "        return y\n",
        "\n",
        "pair_max = np.vectorize(maxx)\n",
        "a = np.array([5, 7, 9, 8, 6, 4, 5])\n",
        "b = np.array([6, 3, 4, 8, 9, 7, 1])\n",
        "\n",
        "pair_max(a, b)\n",
        "\n"
      ],
      "execution_count": 16,
      "outputs": [
        {
          "output_type": "execute_result",
          "data": {
            "text/plain": [
              "array([6, 7, 9, 8, 9, 7, 5])"
            ]
          },
          "metadata": {
            "tags": []
          },
          "execution_count": 16
        }
      ]
    },
    {
      "cell_type": "markdown",
      "metadata": {
        "id": "wX4bOPinj_2X"
      },
      "source": [
        "**6.  Pretty print rand_arr by suppressing the scientific notation (like 1e10)**"
      ]
    },
    {
      "cell_type": "code",
      "metadata": {
        "id": "kBhNLCEyjlNV",
        "colab": {
          "base_uri": "https://localhost:8080/"
        },
        "outputId": "cb413ff1-524a-416d-c204-60467cb84471"
      },
      "source": [
        "# Reset printoptions to default\n",
        "np.set_printoptions(suppress=False)\n",
        "\n",
        "# Create the random array\n",
        "np.random.seed(100)\n",
        "rand_arr = np.random.random([2,3])\n",
        "print(rand_arr)\n",
        "#write code for precision is 6\n",
        "np.set_printoptions(precision=6)\n",
        "print(rand_arr)"
      ],
      "execution_count": 20,
      "outputs": [
        {
          "output_type": "stream",
          "text": [
            "[[0.54340494 0.27836939 0.42451759]\n",
            " [0.84477613 0.00471886 0.12156912]]\n",
            "[[0.543405 0.278369 0.424518]\n",
            " [0.844776 0.004719 0.121569]]\n"
          ],
          "name": "stdout"
        }
      ]
    },
    {
      "cell_type": "markdown",
      "metadata": {
        "id": "hDYYU4ZTktDJ"
      },
      "source": [
        "**7.Convert the 1D iris to 2D array iris_2d by omitting the species text field.**"
      ]
    },
    {
      "cell_type": "code",
      "metadata": {
        "id": "zjG7h23UkrLo"
      },
      "source": [
        "# Input:\n",
        "url = 'https://archive.ics.uci.edu/ml/machine-learning-databases/iris/iris.data'\n",
        "iris_1d = np.genfromtxt(url, delimiter=',', dtype=None)\n",
        "\n",
        "\n",
        "# Method 1: Convert each row to a list and get the first 4 items\n",
        "iris_2d = np.array(#your code here)\n",
        "\n",
        "print(iris_2d[:4])\n",
        "# Alt Method 2: Import only the first 4 columns from source url\n",
        "iris_2d = np.genfromtxt(#your code here)\n",
        "print(iris_2d[:4])"
      ],
      "execution_count": null,
      "outputs": []
    },
    {
      "cell_type": "markdown",
      "metadata": {
        "id": "v98iz56pmB3N"
      },
      "source": [
        "**8.Compute the softmax score of sepallength.**"
      ]
    },
    {
      "cell_type": "code",
      "metadata": {
        "id": "gyeM17OcmIJw"
      },
      "source": [
        "# Input\n",
        "url = 'https://archive.ics.uci.edu/ml/machine-learning-databases/iris/iris.data'\n",
        "iris = np.genfromtxt(url, delimiter=',', dtype='object')\n",
        "sepallength = np.array([float(row[0]) for row in iris])\n",
        "\n",
        "# Solution\n",
        "def softmax(x):\n",
        "    \"\"\"Compute softmax values for each sets of scores in x.\"\"\"\n",
        "    #your code here\n",
        "     return e_x / e_x.sum(axis=0)\n",
        "\n",
        "print(softmax(sepallength)"
      ],
      "execution_count": null,
      "outputs": []
    },
    {
      "cell_type": "markdown",
      "metadata": {
        "id": "-4a2g2XDmiM6"
      },
      "source": [
        "**9.Randomly sample iris's species such that setose is twice the number of versicolor and virginica**\n"
      ]
    },
    {
      "cell_type": "code",
      "metadata": {
        "id": "ryrwNF_QmlSo"
      },
      "source": [
        "# Import iris keeping the text column intact\n",
        "url = 'https://archive.ics.uci.edu/ml/machine-learning-databases/iris/iris.data'\n",
        "iris = np.genfromtxt(url, delimiter=',', dtype='object')\n",
        "\n",
        "# Solution\n",
        "# Get the species column\n",
        "species = iris[:, 4]\n",
        "\n",
        "# Approach 1: Generate Probablistically\n",
        "np.random.seed(100)\n",
        "a = np.array(['Iris-setosa', 'Iris-versicolor', 'Iris-virginica'])\n",
        "species_out = #your code here\n",
        "\n",
        "# Approach 2: Probablistic Sampling (preferred)\n",
        "np.random.seed(100)\n",
        "probs = np.r_[np.linspace(0, 0.500, num=50), np.linspace(0.501, .750, num=50), np.linspace(.751, 1.0, num=50)]\n",
        "index = #your code here\n",
        "species_out = species[index]\n",
        "print(np.unique(species_out, return_counts=True))\n"
      ],
      "execution_count": null,
      "outputs": []
    },
    {
      "cell_type": "markdown",
      "metadata": {
        "id": "9up6qkdJnXQ1"
      },
      "source": [
        "**10.Compute the one-hot encodings (dummy binary variables for each unique value in the array)**"
      ]
    },
    {
      "cell_type": "code",
      "metadata": {
        "id": "xgQm3B32ndcG",
        "colab": {
          "base_uri": "https://localhost:8080/"
        },
        "outputId": "d750dff6-29ab-4d84-9ab1-207c15221359"
      },
      "source": [
        "\n",
        "np.random.seed(101) \n",
        "arr = np.random.randint(1,4, size=6)\n",
        "print(arr)\n",
        "def one_hot_encodings(arr):\n",
        "    uniqs = np.unique(arr)\n",
        "    out = np.zeros((arr.shape[0], uniqs.shape[0]))\n",
        "    for i, k in enumerate(arr):\n",
        "      # print(i,k)\n",
        "      # out[i,k-1]=1\n",
        "    return out\n",
        "\n",
        "one_hot_encodings(arr)\n"
      ],
      "execution_count": 30,
      "outputs": [
        {
          "output_type": "stream",
          "text": [
            "[2 3 2 2 2 1]\n",
            "0 2\n",
            "1 3\n",
            "2 2\n",
            "3 2\n",
            "4 2\n",
            "5 1\n"
          ],
          "name": "stdout"
        },
        {
          "output_type": "execute_result",
          "data": {
            "text/plain": [
              "array([[0., 1., 0.],\n",
              "       [0., 0., 1.],\n",
              "       [0., 1., 0.],\n",
              "       [0., 1., 0.],\n",
              "       [0., 1., 0.],\n",
              "       [1., 0., 0.]])"
            ]
          },
          "metadata": {
            "tags": []
          },
          "execution_count": 30
        }
      ]
    }
  ]
}